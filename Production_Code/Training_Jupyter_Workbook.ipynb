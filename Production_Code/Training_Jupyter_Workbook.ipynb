{
 "cells": [
  {
   "source": [
    "# Email Classification - Training\n",
    "\n",
    "*The main goal of this project is to perform **information extraction** on emails and **classify** them. This documentation guides through the process involved in email classification and the **modules and packages** associated with it.*  \n",
    "\n",
    "The steps involved in training email classification are as follows:\n",
    "\n",
    "    1. Preprocessing\n",
    "    2. Feature Engineering\n",
    "    3. Machine Learning"
   ],
   "cell_type": "markdown",
   "metadata": {}
  },
  {
   "source": [
    "## Importing the file\n",
    "Initially, the file containing the emails and the number of rows from that file is declared using the below variables.\n",
    "\n",
    "*\"file_path\"* variable denotes the **path of the emails csv file** that needs to be processed for email classification\n",
    "\n",
    "*\"rows\"* variable denotes the **number of rows** that must be read from the csv file"
   ],
   "cell_type": "markdown",
   "metadata": {}
  },
  {
   "cell_type": "code",
   "execution_count": 7,
   "metadata": {},
   "outputs": [],
   "source": [
    "file = \"/Users/Sangireddy Siva/Dropbox/CaseStudy1/New Production code/Scripts_V14/Data/emails.csv\"\n",
    "rows = 10"
   ]
  },
  {
   "source": [
    "## 1. Pre Processing\n",
    "\n",
    "In preprocessing we need to perform following steps,\n",
    "\n",
    "    1.1. Read the CSV File\n",
    "    1.2. Split the Emails according to the email headers\n",
    "    1.3. Export the email body column to \"txt\" for the Manual Annotation\n",
    "    1.4. Elimination of forwarded content from email body"
   ],
   "cell_type": "markdown",
   "metadata": {}
  },
  {
   "source": [
    "## 1.1. Read the CSV file\n",
    "Here, the imported file is read using the ***read_file*** function available in ***read_csv*** module under ***Preprocessing*** package.\n",
    "\n",
    "### read_file function\n",
    "#### Description:\n",
    "Reads the csv file and checks with the extension whether it is csv else throws an exception to upload the file with csv extension.\n",
    "#### Parameters:\n",
    "Accepts two parameters such as path of the file and the number of rows.\n",
    "#### Returns:\n",
    "returns the csv file read in a dataframe."
   ],
   "cell_type": "markdown",
   "metadata": {}
  },
  {
   "cell_type": "code",
   "execution_count": 9,
   "metadata": {
    "tags": []
   },
   "outputs": [
    {
     "output_type": "stream",
     "name": "stdout",
     "text": "CSV imported successfully \n\n"
    },
    {
     "output_type": "execute_result",
     "data": {
      "text/plain": "                       file                                            message\n0     allen-p/_sent_mail/1.  Message-ID: <18782981.1075855378110.JavaMail.e...\n1    allen-p/_sent_mail/10.  Message-ID: <15464986.1075855378456.JavaMail.e...\n2   allen-p/_sent_mail/100.  Message-ID: <24216240.1075855687451.JavaMail.e...\n3  allen-p/_sent_mail/1000.  Message-ID: <13505866.1075863688222.JavaMail.e...\n4  allen-p/_sent_mail/1001.  Message-ID: <30922949.1075863688243.JavaMail.e...",
      "text/html": "<div>\n<style scoped>\n    .dataframe tbody tr th:only-of-type {\n        vertical-align: middle;\n    }\n\n    .dataframe tbody tr th {\n        vertical-align: top;\n    }\n\n    .dataframe thead th {\n        text-align: right;\n    }\n</style>\n<table border=\"1\" class=\"dataframe\">\n  <thead>\n    <tr style=\"text-align: right;\">\n      <th></th>\n      <th>file</th>\n      <th>message</th>\n    </tr>\n  </thead>\n  <tbody>\n    <tr>\n      <th>0</th>\n      <td>allen-p/_sent_mail/1.</td>\n      <td>Message-ID: &lt;18782981.1075855378110.JavaMail.e...</td>\n    </tr>\n    <tr>\n      <th>1</th>\n      <td>allen-p/_sent_mail/10.</td>\n      <td>Message-ID: &lt;15464986.1075855378456.JavaMail.e...</td>\n    </tr>\n    <tr>\n      <th>2</th>\n      <td>allen-p/_sent_mail/100.</td>\n      <td>Message-ID: &lt;24216240.1075855687451.JavaMail.e...</td>\n    </tr>\n    <tr>\n      <th>3</th>\n      <td>allen-p/_sent_mail/1000.</td>\n      <td>Message-ID: &lt;13505866.1075863688222.JavaMail.e...</td>\n    </tr>\n    <tr>\n      <th>4</th>\n      <td>allen-p/_sent_mail/1001.</td>\n      <td>Message-ID: &lt;30922949.1075863688243.JavaMail.e...</td>\n    </tr>\n  </tbody>\n</table>\n</div>"
     },
     "metadata": {},
     "execution_count": 9
    }
   ],
   "source": [
    "from Code.Preprocessing.read_csv import read_file\n",
    "emails = read_file(file,rows)\n",
    "emails.head(5)"
   ]
  },
  {
   "source": [
    "## 1.2. Splitting the emails\n",
    "The ***Preprocess*** class in ***split_emails*** module under ***Preprocessing*** package is developed to split the emails based on headers.  \n",
    "\n",
    "### class Preprocess\n",
    "### preprocessing_emails function\n",
    "#### Description:\n",
    "splits the emails based on the headers present within the email data.\n",
    "#### Parameters:\n",
    "accepts two parameters as a dataframe and a data column name.\n",
    "#### Returns:\n",
    "returns emails with respective headers in each column of the dataframe."
   ],
   "cell_type": "markdown",
   "metadata": {}
  },
  {
   "cell_type": "code",
   "execution_count": 10,
   "metadata": {},
   "outputs": [
    {
     "output_type": "execute_result",
     "data": {
      "text/plain": "                       file  \\\n0     allen-p/_sent_mail/1.   \n1    allen-p/_sent_mail/10.   \n2   allen-p/_sent_mail/100.   \n3  allen-p/_sent_mail/1000.   \n4  allen-p/_sent_mail/1001.   \n\n                                             message  \\\n0  Message-ID: <18782981.1075855378110.JavaMail.e...   \n1  Message-ID: <15464986.1075855378456.JavaMail.e...   \n2  Message-ID: <24216240.1075855687451.JavaMail.e...   \n3  Message-ID: <13505866.1075863688222.JavaMail.e...   \n4  Message-ID: <30922949.1075863688243.JavaMail.e...   \n\n                                      Message-ID  \\\n0  <18782981.1075855378110.JavaMail.evans@thyme>   \n1  <15464986.1075855378456.JavaMail.evans@thyme>   \n2  <24216240.1075855687451.JavaMail.evans@thyme>   \n3  <13505866.1075863688222.JavaMail.evans@thyme>   \n4  <30922949.1075863688243.JavaMail.evans@thyme>   \n\n                                    Date                     From  \\\n0  Mon, 14 May 2001 16:39:00 -0700 (PDT)  phillip.allen@enron.com   \n1   Fri, 4 May 2001 13:51:00 -0700 (PDT)  phillip.allen@enron.com   \n2  Wed, 18 Oct 2000 03:00:00 -0700 (PDT)  phillip.allen@enron.com   \n3  Mon, 23 Oct 2000 06:13:00 -0700 (PDT)  phillip.allen@enron.com   \n4  Thu, 31 Aug 2000 05:07:00 -0700 (PDT)  phillip.allen@enron.com   \n\n                        To    Subject Mime-Version  \\\n0     tim.belden@enron.com                     1.0   \n1  john.lavorato@enron.com        Re:          1.0   \n2   leah.arsdall@enron.com   Re: test          1.0   \n3    randall.gay@enron.com                     1.0   \n4     greg.piper@enron.com  Re: Hello          1.0   \n\n                   Content-Type Content-Transfer-Encoding           X-From  \\\n0  text/plain; charset=us-ascii                      7bit  Phillip K Allen   \n1  text/plain; charset=us-ascii                      7bit  Phillip K Allen   \n2  text/plain; charset=us-ascii                      7bit  Phillip K Allen   \n3  text/plain; charset=us-ascii                      7bit  Phillip K Allen   \n4  text/plain; charset=us-ascii                      7bit  Phillip K Allen   \n\n                                                X-To X-cc X-bcc  \\\n0           Tim Belden <Tim Belden/Enron@EnronXGate>              \n1  John J Lavorato <John J Lavorato/ENRON@enronXg...              \n2                                   Leah Van Arsdall              \n3                                      Randall L Gay              \n4                                         Greg Piper              \n\n                                            X-Folder X-Origin  \\\n0  \\Phillip_Allen_Jan2002_1\\Allen, Phillip K.\\'Se...  Allen-P   \n1  \\Phillip_Allen_Jan2002_1\\Allen, Phillip K.\\'Se...  Allen-P   \n2    \\Phillip_Allen_Dec2000\\Notes Folders\\'sent mail  Allen-P   \n3    \\Phillip_Allen_Dec2000\\Notes Folders\\'sent mail  Allen-P   \n4    \\Phillip_Allen_Dec2000\\Notes Folders\\'sent mail  Allen-P   \n\n                    X-FileName  \\\n0  pallen (Non-Privileged).pst   \n1  pallen (Non-Privileged).pst   \n2                   pallen.nsf   \n3                   pallen.nsf   \n4                   pallen.nsf   \n\n                                          email_body                   Sender  \\\n0                          Here is our forecast\\n\\n   phillip.allen@enron.com   \n1  Traveling to have a business meeting takes the...  phillip.allen@enron.com   \n2                     test successful.  way to go!!!  phillip.allen@enron.com   \n3  Randy,\\n\\n Can you send me a schedule of the s...  phillip.allen@enron.com   \n4                Let's shoot for Tuesday at 11:45.    phillip.allen@enron.com   \n\n                  Receiver  \n0     tim.belden@enron.com  \n1  john.lavorato@enron.com  \n2   leah.arsdall@enron.com  \n3    randall.gay@enron.com  \n4     greg.piper@enron.com  ",
      "text/html": "<div>\n<style scoped>\n    .dataframe tbody tr th:only-of-type {\n        vertical-align: middle;\n    }\n\n    .dataframe tbody tr th {\n        vertical-align: top;\n    }\n\n    .dataframe thead th {\n        text-align: right;\n    }\n</style>\n<table border=\"1\" class=\"dataframe\">\n  <thead>\n    <tr style=\"text-align: right;\">\n      <th></th>\n      <th>file</th>\n      <th>message</th>\n      <th>Message-ID</th>\n      <th>Date</th>\n      <th>From</th>\n      <th>To</th>\n      <th>Subject</th>\n      <th>Mime-Version</th>\n      <th>Content-Type</th>\n      <th>Content-Transfer-Encoding</th>\n      <th>X-From</th>\n      <th>X-To</th>\n      <th>X-cc</th>\n      <th>X-bcc</th>\n      <th>X-Folder</th>\n      <th>X-Origin</th>\n      <th>X-FileName</th>\n      <th>email_body</th>\n      <th>Sender</th>\n      <th>Receiver</th>\n    </tr>\n  </thead>\n  <tbody>\n    <tr>\n      <th>0</th>\n      <td>allen-p/_sent_mail/1.</td>\n      <td>Message-ID: &lt;18782981.1075855378110.JavaMail.e...</td>\n      <td>&lt;18782981.1075855378110.JavaMail.evans@thyme&gt;</td>\n      <td>Mon, 14 May 2001 16:39:00 -0700 (PDT)</td>\n      <td>phillip.allen@enron.com</td>\n      <td>tim.belden@enron.com</td>\n      <td></td>\n      <td>1.0</td>\n      <td>text/plain; charset=us-ascii</td>\n      <td>7bit</td>\n      <td>Phillip K Allen</td>\n      <td>Tim Belden &lt;Tim Belden/Enron@EnronXGate&gt;</td>\n      <td></td>\n      <td></td>\n      <td>\\Phillip_Allen_Jan2002_1\\Allen, Phillip K.\\'Se...</td>\n      <td>Allen-P</td>\n      <td>pallen (Non-Privileged).pst</td>\n      <td>Here is our forecast\\n\\n</td>\n      <td>phillip.allen@enron.com</td>\n      <td>tim.belden@enron.com</td>\n    </tr>\n    <tr>\n      <th>1</th>\n      <td>allen-p/_sent_mail/10.</td>\n      <td>Message-ID: &lt;15464986.1075855378456.JavaMail.e...</td>\n      <td>&lt;15464986.1075855378456.JavaMail.evans@thyme&gt;</td>\n      <td>Fri, 4 May 2001 13:51:00 -0700 (PDT)</td>\n      <td>phillip.allen@enron.com</td>\n      <td>john.lavorato@enron.com</td>\n      <td>Re:</td>\n      <td>1.0</td>\n      <td>text/plain; charset=us-ascii</td>\n      <td>7bit</td>\n      <td>Phillip K Allen</td>\n      <td>John J Lavorato &lt;John J Lavorato/ENRON@enronXg...</td>\n      <td></td>\n      <td></td>\n      <td>\\Phillip_Allen_Jan2002_1\\Allen, Phillip K.\\'Se...</td>\n      <td>Allen-P</td>\n      <td>pallen (Non-Privileged).pst</td>\n      <td>Traveling to have a business meeting takes the...</td>\n      <td>phillip.allen@enron.com</td>\n      <td>john.lavorato@enron.com</td>\n    </tr>\n    <tr>\n      <th>2</th>\n      <td>allen-p/_sent_mail/100.</td>\n      <td>Message-ID: &lt;24216240.1075855687451.JavaMail.e...</td>\n      <td>&lt;24216240.1075855687451.JavaMail.evans@thyme&gt;</td>\n      <td>Wed, 18 Oct 2000 03:00:00 -0700 (PDT)</td>\n      <td>phillip.allen@enron.com</td>\n      <td>leah.arsdall@enron.com</td>\n      <td>Re: test</td>\n      <td>1.0</td>\n      <td>text/plain; charset=us-ascii</td>\n      <td>7bit</td>\n      <td>Phillip K Allen</td>\n      <td>Leah Van Arsdall</td>\n      <td></td>\n      <td></td>\n      <td>\\Phillip_Allen_Dec2000\\Notes Folders\\'sent mail</td>\n      <td>Allen-P</td>\n      <td>pallen.nsf</td>\n      <td>test successful.  way to go!!!</td>\n      <td>phillip.allen@enron.com</td>\n      <td>leah.arsdall@enron.com</td>\n    </tr>\n    <tr>\n      <th>3</th>\n      <td>allen-p/_sent_mail/1000.</td>\n      <td>Message-ID: &lt;13505866.1075863688222.JavaMail.e...</td>\n      <td>&lt;13505866.1075863688222.JavaMail.evans@thyme&gt;</td>\n      <td>Mon, 23 Oct 2000 06:13:00 -0700 (PDT)</td>\n      <td>phillip.allen@enron.com</td>\n      <td>randall.gay@enron.com</td>\n      <td></td>\n      <td>1.0</td>\n      <td>text/plain; charset=us-ascii</td>\n      <td>7bit</td>\n      <td>Phillip K Allen</td>\n      <td>Randall L Gay</td>\n      <td></td>\n      <td></td>\n      <td>\\Phillip_Allen_Dec2000\\Notes Folders\\'sent mail</td>\n      <td>Allen-P</td>\n      <td>pallen.nsf</td>\n      <td>Randy,\\n\\n Can you send me a schedule of the s...</td>\n      <td>phillip.allen@enron.com</td>\n      <td>randall.gay@enron.com</td>\n    </tr>\n    <tr>\n      <th>4</th>\n      <td>allen-p/_sent_mail/1001.</td>\n      <td>Message-ID: &lt;30922949.1075863688243.JavaMail.e...</td>\n      <td>&lt;30922949.1075863688243.JavaMail.evans@thyme&gt;</td>\n      <td>Thu, 31 Aug 2000 05:07:00 -0700 (PDT)</td>\n      <td>phillip.allen@enron.com</td>\n      <td>greg.piper@enron.com</td>\n      <td>Re: Hello</td>\n      <td>1.0</td>\n      <td>text/plain; charset=us-ascii</td>\n      <td>7bit</td>\n      <td>Phillip K Allen</td>\n      <td>Greg Piper</td>\n      <td></td>\n      <td></td>\n      <td>\\Phillip_Allen_Dec2000\\Notes Folders\\'sent mail</td>\n      <td>Allen-P</td>\n      <td>pallen.nsf</td>\n      <td>Let's shoot for Tuesday at 11:45.</td>\n      <td>phillip.allen@enron.com</td>\n      <td>greg.piper@enron.com</td>\n    </tr>\n  </tbody>\n</table>\n</div>"
     },
     "metadata": {},
     "execution_count": 10
    }
   ],
   "source": [
    "from Code.Preprocessing.split_emails import Preprocess\n",
    "information = Preprocess()\n",
    "analysis = information.preprocessing_emails(emails, 'message')\n",
    "analysis.head(5)"
   ]
  },
  {
   "cell_type": "markdown",
   "metadata": {},
   "source": [
    "## 1.3. Export the email body column to text file for the Manual Annotations\n",
    "The email column in the dataframe is exported as a text file using ***create_textfile*** function available in ***create_textfile_content*** module under ***Preprocessing*** package for manual annotations.\n",
    "<a id=\"create_textfile\"></a>\n",
    "### create_textfile function\n",
    "#### Description:\n",
    "writes the content of a dataframe to a text file.\n",
    "#### Parameters:\n",
    "accepts one parameter as a column of the dataframe.\n",
    "#### Returns:\n",
    "returns a text file with the content of the dataframe which is saved to the local directory."
   ]
  },
  {
   "cell_type": "code",
   "execution_count": 4,
   "metadata": {},
   "outputs": [],
   "source": [
    "from Code.Preprocessing.create_textfile_content import create_textfile\n",
    "create_textfile(analysis['email_body'])"
   ]
  },
  {
   "source": [
    "## 1.4. Elimination of forwarded content from email body \n",
    "The original body of the email is seggregated from the forwarded content using ***clean_emails*** function in ***clean_content*** package under ***Preprocessing*** package.   \n",
    "\n",
    "### clean_emails function\n",
    "#### Description:\n",
    "eliminates the forwarded content and retains the original body of the email and checks the spelling of the content\n",
    "#### Parameters:\n",
    "accepts two parameters as a dataframe and a data column name.\n",
    "#### Returns:\n",
    "returns only the original body of email with corrected spelling in a column of the dataframe.\n",
    "\n",
    "The output of clean_emails function is exported as a text file using the [create_textfile](#create_textfile) function."
   ],
   "cell_type": "markdown",
   "metadata": {}
  },
  {
   "cell_type": "code",
   "execution_count": 5,
   "metadata": {},
   "outputs": [
    {
     "output_type": "execute_result",
     "data": {
      "text/plain": "                       file  \\\n0     allen-p/_sent_mail/1.   \n1    allen-p/_sent_mail/10.   \n2   allen-p/_sent_mail/100.   \n3  allen-p/_sent_mail/1000.   \n4  allen-p/_sent_mail/1001.   \n5  allen-p/_sent_mail/1002.   \n6  allen-p/_sent_mail/1003.   \n7  allen-p/_sent_mail/1004.   \n8   allen-p/_sent_mail/101.   \n9   allen-p/_sent_mail/102.   \n\n                                             message  \\\n0  Message-ID: <18782981.1075855378110.JavaMail.e...   \n1  Message-ID: <15464986.1075855378456.JavaMail.e...   \n2  Message-ID: <24216240.1075855687451.JavaMail.e...   \n3  Message-ID: <13505866.1075863688222.JavaMail.e...   \n4  Message-ID: <30922949.1075863688243.JavaMail.e...   \n5  Message-ID: <30965995.1075863688265.JavaMail.e...   \n6  Message-ID: <16254169.1075863688286.JavaMail.e...   \n7  Message-ID: <17189699.1075863688308.JavaMail.e...   \n8  Message-ID: <20641191.1075855687472.JavaMail.e...   \n9  Message-ID: <30795301.1075855687494.JavaMail.e...   \n\n                                      Message-ID  \\\n0  <18782981.1075855378110.JavaMail.evans@thyme>   \n1  <15464986.1075855378456.JavaMail.evans@thyme>   \n2  <24216240.1075855687451.JavaMail.evans@thyme>   \n3  <13505866.1075863688222.JavaMail.evans@thyme>   \n4  <30922949.1075863688243.JavaMail.evans@thyme>   \n5  <30965995.1075863688265.JavaMail.evans@thyme>   \n6  <16254169.1075863688286.JavaMail.evans@thyme>   \n7  <17189699.1075863688308.JavaMail.evans@thyme>   \n8  <20641191.1075855687472.JavaMail.evans@thyme>   \n9  <30795301.1075855687494.JavaMail.evans@thyme>   \n\n                                    Date                     From  \\\n0  Mon, 14 May 2001 16:39:00 -0700 (PDT)  phillip.allen@enron.com   \n1   Fri, 4 May 2001 13:51:00 -0700 (PDT)  phillip.allen@enron.com   \n2  Wed, 18 Oct 2000 03:00:00 -0700 (PDT)  phillip.allen@enron.com   \n3  Mon, 23 Oct 2000 06:13:00 -0700 (PDT)  phillip.allen@enron.com   \n4  Thu, 31 Aug 2000 05:07:00 -0700 (PDT)  phillip.allen@enron.com   \n5  Thu, 31 Aug 2000 04:17:00 -0700 (PDT)  phillip.allen@enron.com   \n6  Tue, 22 Aug 2000 07:44:00 -0700 (PDT)  phillip.allen@enron.com   \n7  Fri, 14 Jul 2000 06:59:00 -0700 (PDT)  phillip.allen@enron.com   \n8  Tue, 17 Oct 2000 02:26:00 -0700 (PDT)  phillip.allen@enron.com   \n9  Mon, 16 Oct 2000 06:44:00 -0700 (PDT)  phillip.allen@enron.com   \n\n                                                 To  \\\n0                              tim.belden@enron.com   \n1                           john.lavorato@enron.com   \n2                            leah.arsdall@enron.com   \n3                             randall.gay@enron.com   \n4                              greg.piper@enron.com   \n5                              greg.piper@enron.com   \n6  david.l.johnson@enron.com, john.shafer@enron.com   \n7                          joyce.teixeira@enron.com   \n8                              mark.scott@enron.com   \n9                                   zimam@enron.com   \n\n                                             Subject Mime-Version  \\\n0                                                             1.0   \n1                                                Re:          1.0   \n2                                           Re: test          1.0   \n3                                                             1.0   \n4                                          Re: Hello          1.0   \n5                                          Re: Hello          1.0   \n6                                                             1.0   \n7                       Re: PRC review - phone calls          1.0   \n8                     Re: High Speed Internet Access          1.0   \n9  FW: fixed forward or other Collar floor gas pr...          1.0   \n\n                   Content-Type Content-Transfer-Encoding  ... X-cc X-bcc  \\\n0  text/plain; charset=us-ascii                      7bit  ...              \n1  text/plain; charset=us-ascii                      7bit  ...              \n2  text/plain; charset=us-ascii                      7bit  ...              \n3  text/plain; charset=us-ascii                      7bit  ...              \n4  text/plain; charset=us-ascii                      7bit  ...              \n5  text/plain; charset=us-ascii                      7bit  ...              \n6  text/plain; charset=us-ascii                      7bit  ...              \n7  text/plain; charset=us-ascii                      7bit  ...              \n8  text/plain; charset=us-ascii                      7bit  ...              \n9  text/plain; charset=us-ascii                      7bit  ...              \n\n                                            X-Folder X-Origin  \\\n0  \\Phillip_Allen_Jan2002_1\\Allen, Phillip K.\\'Se...  Allen-P   \n1  \\Phillip_Allen_Jan2002_1\\Allen, Phillip K.\\'Se...  Allen-P   \n2    \\Phillip_Allen_Dec2000\\Notes Folders\\'sent mail  Allen-P   \n3    \\Phillip_Allen_Dec2000\\Notes Folders\\'sent mail  Allen-P   \n4    \\Phillip_Allen_Dec2000\\Notes Folders\\'sent mail  Allen-P   \n5    \\Phillip_Allen_Dec2000\\Notes Folders\\'sent mail  Allen-P   \n6    \\Phillip_Allen_Dec2000\\Notes Folders\\'sent mail  Allen-P   \n7    \\Phillip_Allen_Dec2000\\Notes Folders\\'sent mail  Allen-P   \n8    \\Phillip_Allen_Dec2000\\Notes Folders\\'sent mail  Allen-P   \n9    \\Phillip_Allen_Dec2000\\Notes Folders\\'sent mail  Allen-P   \n\n                    X-FileName  \\\n0  pallen (Non-Privileged).pst   \n1  pallen (Non-Privileged).pst   \n2                   pallen.nsf   \n3                   pallen.nsf   \n4                   pallen.nsf   \n5                   pallen.nsf   \n6                   pallen.nsf   \n7                   pallen.nsf   \n8                   pallen.nsf   \n9                   pallen.nsf   \n\n                                          email_body                   Sender  \\\n0                          Here is our forecast\\n\\n   phillip.allen@enron.com   \n1  Traveling to have a business meeting takes the...  phillip.allen@enron.com   \n2                     test successful.  way to go!!!  phillip.allen@enron.com   \n3  Randy,\\n\\n Can you send me a schedule of the s...  phillip.allen@enron.com   \n4                Let's shoot for Tuesday at 11:45.    phillip.allen@enron.com   \n5  Greg,\\n\\n How about either next Tuesday or Thu...  phillip.allen@enron.com   \n6  Please cc the following distribution list with...  phillip.allen@enron.com   \n7                   any morning between 10 and 11:30  phillip.allen@enron.com   \n8  1. login:  pallen pw: ke9davis\\n\\n I don't thi...  phillip.allen@enron.com   \n9  ---------------------- Forwarded by Phillip K ...  phillip.allen@enron.com   \n\n                                          Receiver  \\\n0                             tim.belden@enron.com   \n1                          john.lavorato@enron.com   \n2                           leah.arsdall@enron.com   \n3                            randall.gay@enron.com   \n4                             greg.piper@enron.com   \n5                             greg.piper@enron.com   \n6  john.shafer@enron.com,david.l.johnson@enron.com   \n7                         joyce.teixeira@enron.com   \n8                             mark.scott@enron.com   \n9                                  zimam@enron.com   \n\n                                              tokens  \\\n0                   (Here, is, our, forecast, \\n\\n )   \n1  (Traveling, to, have, a, business, meeting, ta...   \n2     (test, successful, .,  , way, to, go, !, !, !)   \n3  (Randy, ,, \\n\\n , Can, you, send, me, a, sched...   \n4    (Let, 's, shoot, for, Tuesday, at, 11:45, .,  )   \n5  (Greg, ,, \\n\\n , How, about, either, next, Tue...   \n6  (Please, cc, the, following, distribution, lis...   \n7            (any, morning, between, 10, and, 11:30)   \n8  (1, ., login, :,  , pallen, pw, :, ke9davis, \\...   \n9  (----------------------, Forwarded, by, Philli...   \n\n                                          clean_text  \n0                                           forecast  \n1  travel business meeting take fun trip especial...  \n2                                test successful way  \n3  randy send schedule salary level scheduling gr...  \n4                                  let shoot tuesday  \n5                       grew tuesday thursday philip  \n6  follow distribution list update philip allen m...  \n7                                            morning  \n8  login fallen think require is static address s...  \n9                                                     \n\n[10 rows x 22 columns]",
      "text/html": "<div>\n<style scoped>\n    .dataframe tbody tr th:only-of-type {\n        vertical-align: middle;\n    }\n\n    .dataframe tbody tr th {\n        vertical-align: top;\n    }\n\n    .dataframe thead th {\n        text-align: right;\n    }\n</style>\n<table border=\"1\" class=\"dataframe\">\n  <thead>\n    <tr style=\"text-align: right;\">\n      <th></th>\n      <th>file</th>\n      <th>message</th>\n      <th>Message-ID</th>\n      <th>Date</th>\n      <th>From</th>\n      <th>To</th>\n      <th>Subject</th>\n      <th>Mime-Version</th>\n      <th>Content-Type</th>\n      <th>Content-Transfer-Encoding</th>\n      <th>...</th>\n      <th>X-cc</th>\n      <th>X-bcc</th>\n      <th>X-Folder</th>\n      <th>X-Origin</th>\n      <th>X-FileName</th>\n      <th>email_body</th>\n      <th>Sender</th>\n      <th>Receiver</th>\n      <th>tokens</th>\n      <th>clean_text</th>\n    </tr>\n  </thead>\n  <tbody>\n    <tr>\n      <th>0</th>\n      <td>allen-p/_sent_mail/1.</td>\n      <td>Message-ID: &lt;18782981.1075855378110.JavaMail.e...</td>\n      <td>&lt;18782981.1075855378110.JavaMail.evans@thyme&gt;</td>\n      <td>Mon, 14 May 2001 16:39:00 -0700 (PDT)</td>\n      <td>phillip.allen@enron.com</td>\n      <td>tim.belden@enron.com</td>\n      <td></td>\n      <td>1.0</td>\n      <td>text/plain; charset=us-ascii</td>\n      <td>7bit</td>\n      <td>...</td>\n      <td></td>\n      <td></td>\n      <td>\\Phillip_Allen_Jan2002_1\\Allen, Phillip K.\\'Se...</td>\n      <td>Allen-P</td>\n      <td>pallen (Non-Privileged).pst</td>\n      <td>Here is our forecast\\n\\n</td>\n      <td>phillip.allen@enron.com</td>\n      <td>tim.belden@enron.com</td>\n      <td>(Here, is, our, forecast, \\n\\n )</td>\n      <td>forecast</td>\n    </tr>\n    <tr>\n      <th>1</th>\n      <td>allen-p/_sent_mail/10.</td>\n      <td>Message-ID: &lt;15464986.1075855378456.JavaMail.e...</td>\n      <td>&lt;15464986.1075855378456.JavaMail.evans@thyme&gt;</td>\n      <td>Fri, 4 May 2001 13:51:00 -0700 (PDT)</td>\n      <td>phillip.allen@enron.com</td>\n      <td>john.lavorato@enron.com</td>\n      <td>Re:</td>\n      <td>1.0</td>\n      <td>text/plain; charset=us-ascii</td>\n      <td>7bit</td>\n      <td>...</td>\n      <td></td>\n      <td></td>\n      <td>\\Phillip_Allen_Jan2002_1\\Allen, Phillip K.\\'Se...</td>\n      <td>Allen-P</td>\n      <td>pallen (Non-Privileged).pst</td>\n      <td>Traveling to have a business meeting takes the...</td>\n      <td>phillip.allen@enron.com</td>\n      <td>john.lavorato@enron.com</td>\n      <td>(Traveling, to, have, a, business, meeting, ta...</td>\n      <td>travel business meeting take fun trip especial...</td>\n    </tr>\n    <tr>\n      <th>2</th>\n      <td>allen-p/_sent_mail/100.</td>\n      <td>Message-ID: &lt;24216240.1075855687451.JavaMail.e...</td>\n      <td>&lt;24216240.1075855687451.JavaMail.evans@thyme&gt;</td>\n      <td>Wed, 18 Oct 2000 03:00:00 -0700 (PDT)</td>\n      <td>phillip.allen@enron.com</td>\n      <td>leah.arsdall@enron.com</td>\n      <td>Re: test</td>\n      <td>1.0</td>\n      <td>text/plain; charset=us-ascii</td>\n      <td>7bit</td>\n      <td>...</td>\n      <td></td>\n      <td></td>\n      <td>\\Phillip_Allen_Dec2000\\Notes Folders\\'sent mail</td>\n      <td>Allen-P</td>\n      <td>pallen.nsf</td>\n      <td>test successful.  way to go!!!</td>\n      <td>phillip.allen@enron.com</td>\n      <td>leah.arsdall@enron.com</td>\n      <td>(test, successful, .,  , way, to, go, !, !, !)</td>\n      <td>test successful way</td>\n    </tr>\n    <tr>\n      <th>3</th>\n      <td>allen-p/_sent_mail/1000.</td>\n      <td>Message-ID: &lt;13505866.1075863688222.JavaMail.e...</td>\n      <td>&lt;13505866.1075863688222.JavaMail.evans@thyme&gt;</td>\n      <td>Mon, 23 Oct 2000 06:13:00 -0700 (PDT)</td>\n      <td>phillip.allen@enron.com</td>\n      <td>randall.gay@enron.com</td>\n      <td></td>\n      <td>1.0</td>\n      <td>text/plain; charset=us-ascii</td>\n      <td>7bit</td>\n      <td>...</td>\n      <td></td>\n      <td></td>\n      <td>\\Phillip_Allen_Dec2000\\Notes Folders\\'sent mail</td>\n      <td>Allen-P</td>\n      <td>pallen.nsf</td>\n      <td>Randy,\\n\\n Can you send me a schedule of the s...</td>\n      <td>phillip.allen@enron.com</td>\n      <td>randall.gay@enron.com</td>\n      <td>(Randy, ,, \\n\\n , Can, you, send, me, a, sched...</td>\n      <td>randy send schedule salary level scheduling gr...</td>\n    </tr>\n    <tr>\n      <th>4</th>\n      <td>allen-p/_sent_mail/1001.</td>\n      <td>Message-ID: &lt;30922949.1075863688243.JavaMail.e...</td>\n      <td>&lt;30922949.1075863688243.JavaMail.evans@thyme&gt;</td>\n      <td>Thu, 31 Aug 2000 05:07:00 -0700 (PDT)</td>\n      <td>phillip.allen@enron.com</td>\n      <td>greg.piper@enron.com</td>\n      <td>Re: Hello</td>\n      <td>1.0</td>\n      <td>text/plain; charset=us-ascii</td>\n      <td>7bit</td>\n      <td>...</td>\n      <td></td>\n      <td></td>\n      <td>\\Phillip_Allen_Dec2000\\Notes Folders\\'sent mail</td>\n      <td>Allen-P</td>\n      <td>pallen.nsf</td>\n      <td>Let's shoot for Tuesday at 11:45.</td>\n      <td>phillip.allen@enron.com</td>\n      <td>greg.piper@enron.com</td>\n      <td>(Let, 's, shoot, for, Tuesday, at, 11:45, .,  )</td>\n      <td>let shoot tuesday</td>\n    </tr>\n    <tr>\n      <th>5</th>\n      <td>allen-p/_sent_mail/1002.</td>\n      <td>Message-ID: &lt;30965995.1075863688265.JavaMail.e...</td>\n      <td>&lt;30965995.1075863688265.JavaMail.evans@thyme&gt;</td>\n      <td>Thu, 31 Aug 2000 04:17:00 -0700 (PDT)</td>\n      <td>phillip.allen@enron.com</td>\n      <td>greg.piper@enron.com</td>\n      <td>Re: Hello</td>\n      <td>1.0</td>\n      <td>text/plain; charset=us-ascii</td>\n      <td>7bit</td>\n      <td>...</td>\n      <td></td>\n      <td></td>\n      <td>\\Phillip_Allen_Dec2000\\Notes Folders\\'sent mail</td>\n      <td>Allen-P</td>\n      <td>pallen.nsf</td>\n      <td>Greg,\\n\\n How about either next Tuesday or Thu...</td>\n      <td>phillip.allen@enron.com</td>\n      <td>greg.piper@enron.com</td>\n      <td>(Greg, ,, \\n\\n , How, about, either, next, Tue...</td>\n      <td>grew tuesday thursday philip</td>\n    </tr>\n    <tr>\n      <th>6</th>\n      <td>allen-p/_sent_mail/1003.</td>\n      <td>Message-ID: &lt;16254169.1075863688286.JavaMail.e...</td>\n      <td>&lt;16254169.1075863688286.JavaMail.evans@thyme&gt;</td>\n      <td>Tue, 22 Aug 2000 07:44:00 -0700 (PDT)</td>\n      <td>phillip.allen@enron.com</td>\n      <td>david.l.johnson@enron.com, john.shafer@enron.com</td>\n      <td></td>\n      <td>1.0</td>\n      <td>text/plain; charset=us-ascii</td>\n      <td>7bit</td>\n      <td>...</td>\n      <td></td>\n      <td></td>\n      <td>\\Phillip_Allen_Dec2000\\Notes Folders\\'sent mail</td>\n      <td>Allen-P</td>\n      <td>pallen.nsf</td>\n      <td>Please cc the following distribution list with...</td>\n      <td>phillip.allen@enron.com</td>\n      <td>john.shafer@enron.com,david.l.johnson@enron.com</td>\n      <td>(Please, cc, the, following, distribution, lis...</td>\n      <td>follow distribution list update philip allen m...</td>\n    </tr>\n    <tr>\n      <th>7</th>\n      <td>allen-p/_sent_mail/1004.</td>\n      <td>Message-ID: &lt;17189699.1075863688308.JavaMail.e...</td>\n      <td>&lt;17189699.1075863688308.JavaMail.evans@thyme&gt;</td>\n      <td>Fri, 14 Jul 2000 06:59:00 -0700 (PDT)</td>\n      <td>phillip.allen@enron.com</td>\n      <td>joyce.teixeira@enron.com</td>\n      <td>Re: PRC review - phone calls</td>\n      <td>1.0</td>\n      <td>text/plain; charset=us-ascii</td>\n      <td>7bit</td>\n      <td>...</td>\n      <td></td>\n      <td></td>\n      <td>\\Phillip_Allen_Dec2000\\Notes Folders\\'sent mail</td>\n      <td>Allen-P</td>\n      <td>pallen.nsf</td>\n      <td>any morning between 10 and 11:30</td>\n      <td>phillip.allen@enron.com</td>\n      <td>joyce.teixeira@enron.com</td>\n      <td>(any, morning, between, 10, and, 11:30)</td>\n      <td>morning</td>\n    </tr>\n    <tr>\n      <th>8</th>\n      <td>allen-p/_sent_mail/101.</td>\n      <td>Message-ID: &lt;20641191.1075855687472.JavaMail.e...</td>\n      <td>&lt;20641191.1075855687472.JavaMail.evans@thyme&gt;</td>\n      <td>Tue, 17 Oct 2000 02:26:00 -0700 (PDT)</td>\n      <td>phillip.allen@enron.com</td>\n      <td>mark.scott@enron.com</td>\n      <td>Re: High Speed Internet Access</td>\n      <td>1.0</td>\n      <td>text/plain; charset=us-ascii</td>\n      <td>7bit</td>\n      <td>...</td>\n      <td></td>\n      <td></td>\n      <td>\\Phillip_Allen_Dec2000\\Notes Folders\\'sent mail</td>\n      <td>Allen-P</td>\n      <td>pallen.nsf</td>\n      <td>1. login:  pallen pw: ke9davis\\n\\n I don't thi...</td>\n      <td>phillip.allen@enron.com</td>\n      <td>mark.scott@enron.com</td>\n      <td>(1, ., login, :,  , pallen, pw, :, ke9davis, \\...</td>\n      <td>login fallen think require is static address s...</td>\n    </tr>\n    <tr>\n      <th>9</th>\n      <td>allen-p/_sent_mail/102.</td>\n      <td>Message-ID: &lt;30795301.1075855687494.JavaMail.e...</td>\n      <td>&lt;30795301.1075855687494.JavaMail.evans@thyme&gt;</td>\n      <td>Mon, 16 Oct 2000 06:44:00 -0700 (PDT)</td>\n      <td>phillip.allen@enron.com</td>\n      <td>zimam@enron.com</td>\n      <td>FW: fixed forward or other Collar floor gas pr...</td>\n      <td>1.0</td>\n      <td>text/plain; charset=us-ascii</td>\n      <td>7bit</td>\n      <td>...</td>\n      <td></td>\n      <td></td>\n      <td>\\Phillip_Allen_Dec2000\\Notes Folders\\'sent mail</td>\n      <td>Allen-P</td>\n      <td>pallen.nsf</td>\n      <td>---------------------- Forwarded by Phillip K ...</td>\n      <td>phillip.allen@enron.com</td>\n      <td>zimam@enron.com</td>\n      <td>(----------------------, Forwarded, by, Philli...</td>\n      <td></td>\n    </tr>\n  </tbody>\n</table>\n<p>10 rows × 22 columns</p>\n</div>"
     },
     "metadata": {},
     "execution_count": 5
    }
   ],
   "source": [
    "from Code.Preprocessing.clean_content import CleanEmails\n",
    "clean_class = CleanEmails(analysis,'message')\n",
    "clean_nlp_content = clean_class.clean_emails()\n",
    "clean_nlp_content.head(5)"
   ]
  },
  {
   "cell_type": "code",
   "execution_count": 9,
   "metadata": {},
   "outputs": [],
   "source": [
    "create_textfile(clean_nlp_content['clean_text'])"
   ]
  },
  {
   "source": [
    "## 2. Feature Engineering\n",
    "\n",
    "The following steps are performed in feature engineering,\n",
    "\n",
    "    2.1. Named Entity Recognition\n",
    "    2.2. Named Entity Linking"
   ],
   "cell_type": "markdown",
   "metadata": {}
  },
  {
   "source": [
    "## 2.1. Named Entity Recognition \n",
    "A neural model specific to the training data is developed to extract named entities using ***train_spacy*** function in ***training_ner*** module under ***Train_NER*** package.\n",
    "\n",
    "### train_spacy function\n",
    "#### Description:\n",
    "with the manually annotated data as training data, a blank neural model in spacy library is trained for extracting named entities from email data.\n",
    "#### Parameters:\n",
    "accepts two parameters such as training data(manually annotated pickle file) and number of iterations.\n",
    "#### Returns:\n",
    "a neural network model trained specific to the training data and training data for evaluation purpose."
   ],
   "cell_type": "markdown",
   "metadata": {}
  },
  {
   "cell_type": "code",
   "execution_count": 12,
   "metadata": {
    "tags": []
   },
   "outputs": [],
   "source": [
    "from Code.Feature_Engineering.training_ner import train_spacy\n",
    "import pickle\n",
    "ner_pickle_input = \"/Users/Sangireddy Siva/Dropbox/CaseStudy1/New Production code/Scripts_V14/Data/ner_train_data.pickle\"\n",
    "ner_iterations = 20\n",
    "_, nlp = train_spacy(ner_pickle_input,ner_iterations)\n",
    "ner_model = input(\"Provide the name for NER model\")\n",
    "nlp.to_disk(ner_model)"
   ]
  },
  {
   "source": [
    "## 2.2. Named Entity Linking \n",
    "A neural model specific to the training data is developed to extract named entity linking for the exising named entities in the data using  ***NelTraining*** class under ***Train_NEL*** package.\n",
    "\n",
    "###  NelTraining class\n",
    "#### Description:\n",
    "class uses trained NER model to generate the knowledge base and trains the names entity linking.\n",
    "#### Parameters:\n",
    "accepts one parameter such as location of the trained NER model."
   ],
   "cell_type": "markdown",
   "metadata": {}
  },
  {
   "cell_type": "code",
   "execution_count": 12,
   "metadata": {},
   "outputs": [],
   "source": [
    "from Code.Feature_Engineering.training_nel import NelTraining\n",
    "import pandas as pd\n",
    "\n",
    "cus_ner = \"/Users/Sangireddy Siva/Dropbox/CaseStudy1/New Production code/Scripts_V14/Derived_Outputs/Custom_NER\"\n",
    "cus_ner_path = NelTraining(cus_ner)"
   ]
  },
  {
   "source": [
    "## 2.2.1 creating_knowledge\n",
    "###  creating_knowledge function\n",
    "#### Description:\n",
    "with NER training data and by converting the NER data with custom NER model, knowledge base is generated.\n",
    "#### Parameters:\n",
    "accepts one parameter such as location of the NER training data pickle file.\n",
    "#### Returns:\n",
    "a .csv file with entities and frequncies."
   ],
   "cell_type": "markdown",
   "metadata": {}
  },
  {
   "cell_type": "code",
   "execution_count": 14,
   "metadata": {},
   "outputs": [],
   "source": [
    "cus_ner_path.creating_knowledge(ner_pickle_input)"
   ]
  },
  {
   "source": [
    "## 2.2.2 settingup_knowledgebase\n",
    "###  settingup_knowledgebase function\n",
    "#### Description:\n",
    "Fucntion imports knowledge base data to set up entities and aliases using the vocabulary from trained NER model, and also traines the named entitity linking on top of the trained NER model.\n",
    "#### Parameters:\n",
    "accepts two parameters such as location of the knowledge base file and training NER data with QID's\n",
    "#### Returns:\n",
    "two pickle files with knowledge base dump and knowledge base vocab, and a neural model trained specific to the training data"
   ],
   "cell_type": "markdown",
   "metadata": {}
  },
  {
   "cell_type": "code",
   "execution_count": 13,
   "metadata": {
    "tags": []
   },
   "outputs": [
    {
     "output_type": "stream",
     "name": "stdout",
     "text": ".csv\nNone\nCSV imported successfully \n\n.csv\nNone\nCSV imported successfully \n\n"
    }
   ],
   "source": [
    "kb_input = \"/Users/Sangireddy Siva/Dropbox/CaseStudy1/New Production code/Scripts_V14/Pre_loaded_inputs_and_outputs/Knowledge_Base_demo.csv\"\n",
    "names =  pd.read_csv(kb_input, sep=';')\n",
    "training_nel_data = \"/Users/Sangireddy Siva/Dropbox/CaseStudy1/New Production code/Scripts_V14/Pre_loaded_inputs_and_outputs/Training_NER_demo.csv\"\n",
    "train_data_2 =  pd.read_csv(training_nel_data, sep=';')\n",
    "cus_ner_path.settingup_knowledgebase(names,train_data_2)"
   ]
  },
  {
   "source": [
    "## 3. Machine learning\n",
    "Machine learning unsupervised model specific to the trained data would be generate to automatically clustering the data\n",
    "***TrainML*** class under ***Training_ML*** package\n",
    "\n",
    "###  TrainML Class\n",
    "#### Description:\n",
    "class will train Machine learning model to generate the clusters on preprocessed training data.\n",
    "#### Parameters:\n",
    "accepts two parameters such as a dataframe and a data column."
   ],
   "cell_type": "markdown",
   "metadata": {}
  },
  {
   "cell_type": "code",
   "execution_count": 3,
   "metadata": {
    "tags": []
   },
   "outputs": [
    {
     "output_type": "stream",
     "name": "stdout",
     "text": "CSV imported successfully \n\n                                          clean_text\n0                                           forecast\n1  travel business meeting take fun trip especial...\n2                                test successful way\n3  randy send schedule salary level scheduling gr...\n4                                  let shoot tuesday\n"
    }
   ],
   "source": [
    "from Code.Machine_Learning.Training_ML import TrainML\n",
    "from Code.Preprocessing.read_csv import read_file\n",
    "\n",
    "ml_input = \"/Users/Sangireddy Siva/Dropbox/CaseStudy1/New Production code/Scripts_V14/Pre_loaded_inputs_and_outputs/cleaned_emails.csv\"\n",
    "ml_data = read_file(ml_input)\n",
    "print(ml_data.head(5))\n",
    "cust_ml_model = TrainML(ml_data,'clean_text')"
   ]
  },
  {
   "source": [
    "## 3.1 Training Clustering model\n",
    "###  train_ml function\n",
    "#### Description:\n",
    "Fucntion takes the dataframe from the TrainML class to generate the model with clusters based on the Elbow strength of the Inertia scores\n",
    "#### Parameters:\n",
    "accepts three parameters while training the model such as random state, number of iterations and top words for display purpose.\n",
    "#### Default parameters:\n",
    "random state = 42, iterations = 100, top words = 20\n",
    "#### Returns:\n",
    "one pickle file with trained clustering model specific to the training data"
   ],
   "cell_type": "markdown",
   "metadata": {}
  },
  {
   "cell_type": "code",
   "execution_count": 4,
   "metadata": {
    "tags": []
   },
   "outputs": [
    {
     "output_type": "stream",
     "name": "stdout",
     "text": "Clustering using KMeans...\nPlease wait for model training..........\nclusters are 2\nClustering model has been successfully trained\n"
    }
   ],
   "source": [
    "cust_ml_model.train_ml()"
   ]
  }
 ],
 "metadata": {
  "kernelspec": {
   "display_name": "Python 3",
   "language": "python",
   "name": "python3"
  },
  "language_info": {
   "codemirror_mode": {
    "name": "ipython",
    "version": 3
   },
   "file_extension": ".py",
   "mimetype": "text/x-python",
   "name": "python",
   "nbconvert_exporter": "python",
   "pygments_lexer": "ipython3",
   "version": "3.8.3-final"
  }
 },
 "nbformat": 4,
 "nbformat_minor": 4
}